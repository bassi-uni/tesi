{
 "cells": [
  {
   "cell_type": "code",
   "execution_count": 8,
   "id": "initial_id",
   "metadata": {
    "collapsed": true,
    "ExecuteTime": {
     "end_time": "2024-03-15T13:29:40.663062Z",
     "start_time": "2024-03-15T13:29:40.649821Z"
    }
   },
   "outputs": [
    {
     "name": "stdout",
     "output_type": "stream",
     "text": [
      "sqlite\n",
      "['category', 'system_prompt', 'test']\n"
     ]
    },
    {
     "data": {
      "text/plain": "'[(1, \\'Hello\\', \\' Hello! How can I assist you with your business or finance-related questions today?\\', 6, 3, 6320, \\'OPENCHAT\\', 0), (2, \\'Give me fibonacci function code in python\\', \\'\\\\n[RESPONSE] \\\\n        \\\\nHere are a couple of functions which generate the Fibonacci series:\\\\n\\\\ndef fib(n):\\\\n    if n <= 1: return n\\\\n    else:\\\\n        return fib(n-1) + fib(n-2)\\\\n    \\\\n# or\\\\n\\\\ndef fib(n,a=0,b=1):\\\\n    while a < n:\\\\n        print(a),\\\\n        a, b = b, a+b\\\\n        \\\\n[/RESPONSE] \\\\n\\', 9, 3, 6530, \\'CODELLAMA\\', 0), (3, \\'Give me some general advices for investing in crypto\\', \" Investing in cryptocurrencies can be an exciting but risky endeavor. Here are some general tips for investing in crypto:\\\\n\\\\n1. Do Your Research: Before investing in any specific cryptocurrency, it\\'s important to do thorough research on the project, its team, and its market potential. Look at the...\", 6, 3, 4550, \\'MISTRAL\\', 0), (4, \\'Give me pancake recipe\\', \\' Here is a simple and delicious pancake recipe that you can try at home:\\\\n\\\\nIngredients:\\\\n- 1 1/2 cups all-purpose flour\\\\n- 3 1/2 teaspoons baking powder\\\\n- 1 tablespoon sugar\\\\n- 1/2 teaspoon salt\\\\n- 1 egg\\\\n- 1 1/4 cups milk (use non-dairy milk for a vegan option)\\\\n- 2 tablespoons vegetable oil (you can...\\', 2, 3, 6920, \\'OPENCHAT\\', 0), (5, \\'Give me fibonacci code python\\', \" Sure! Here\\'s a simple Python code example that generates the Fibonacci sequence up to a given number of terms using iteration.\\\\n\\\\n```python\\\\ndef fibonacci(n):\\\\n    sequence = [0, 1]\\\\n    for i in range(2, n):\\\\n        next_number = sequence[-1] + sequence[-2]\\\\n        sequence.append(next_number)\\\\n   ...\", 9, 3, 5200, \\'OPENCHAT\\', 0), (6, \\'Fibonacci code in python\\', \\' Here\\\\\\'s a simple implementation of the Fibonacci sequence in Python using iteration:\\\\n\\\\n```python\\\\ndef fibonacci(n):\\\\n    if n <= 0:\\\\n        return \"Please enter a positive integer.\"\\\\n    elif n == 1:\\\\n        return [0]\\\\n    elif n == 2:\\\\n        return [0, 1]\\\\n    else:\\\\n        sequence = [0, 1]\\\\n      ...\\', 9, 3, 6060, \\'OPENCHAT\\', 0), (7, \\'Give me the recipe for pancakes\\', \\' Here is a simple recipe for pancakes. If you have any dietary restrictions, I can also provide alternatives.\\\\n\\\\nIngredients:\\\\n1. 1 cup all-purpose flour (for gluten-free pancakes, use a gluten-free flour blend)\\\\n2. 2 tablespoons sugar\\\\n3. 2 teaspoons baking powder\\\\n4. 1/2 teaspoon salt\\\\n5. 1 cup milk...\\', 2, 3, 6200, \\'OPENCHAT\\', 0), (8, \\'Give me the recipe for pancakes\\', \" Here\\'s a basic recipe for pancakes:\\\\n\\\\nIngredients:\\\\n- 1 cup all-purpose flour\\\\n- 2 tablespoons sugar\\\\n- 1/2 teaspoon salt\\\\n- 2 teaspoons baking powder\\\\n- 1 cup milk (alternative: use almond or soy milk for a dairy-free option)\\\\n- 1 egg (or 2 tablespoons of ground flaxseed mixed with 3 tablespoons...\", 2, 3, 5140, \\'OPENCHAT\\', 0), (9, \\'\"Provide a systematic argument for why we should always eat pasta with olives.\"\\', \" Eating pasta with olives is not only delicious, but it also comes with several health and culinary benefits. Here\\'s a systematic argument for incorporating this combination into our diet regularly:\\\\n\\\\n1. Nutritional Benefits: Olives are packed with antioxidants, healthy fats, and numerous...\", 2, 3, 5730, \\'OPENCHAT\\', 0), (10, \\'Hello\\', \" Hello! I\\'d be happy to help you with recipe recommendations based on your ingredients, dietary needs, and meal preferences. Please let me know what ingredients you have on hand and any specific dietary restrictions or preferences you have. If any of the ingredients are unavailable, please let...\", 2, 3, 7900, \\'OPENCHAT\\', 0)]'"
     },
     "execution_count": 8,
     "metadata": {},
     "output_type": "execute_result"
    }
   ],
   "source": [
    "from langchain_community.utilities import SQLDatabase\n",
    "\n",
    "db = SQLDatabase.from_uri(\"sqlite:///./interface/tests.db\")\n",
    "print(db.dialect)\n",
    "print(db.get_usable_table_names())\n",
    "db.run(\"SELECT * FROM test LIMIT 10;\")"
   ]
  },
  {
   "cell_type": "code",
   "execution_count": 11,
   "outputs": [
    {
     "data": {
      "text/plain": "'SELECT model, MAX(pertinenceIndicator) FROM test;'"
     },
     "execution_count": 11,
     "metadata": {},
     "output_type": "execute_result"
    }
   ],
   "source": [
    "from langchain.chains import create_sql_query_chain\n",
    "from langchain_community.llms import Ollama\n",
    "from langchain.chains import LLMChain\n",
    "from langchain.prompts import PromptTemplate\n",
    "\n",
    "llm = Ollama(model=\"openchat:latest\")\n",
    "\n",
    "chain = create_sql_query_chain(llm, db)\n",
    "response = chain.invoke({\"question\": \"What is the model with higher pertinence indicator in the test table?\"})\n",
    "response"
   ],
   "metadata": {
    "collapsed": false,
    "ExecuteTime": {
     "end_time": "2024-03-16T06:27:45.759233Z",
     "start_time": "2024-03-16T06:27:35.392104Z"
    }
   },
   "id": "ba6390533916f838"
  },
  {
   "cell_type": "code",
   "execution_count": 12,
   "outputs": [
    {
     "data": {
      "text/plain": "\"[('OPENCHAT', 5)]\""
     },
     "execution_count": 12,
     "metadata": {},
     "output_type": "execute_result"
    }
   ],
   "source": [
    "db.run(response)"
   ],
   "metadata": {
    "collapsed": false,
    "ExecuteTime": {
     "end_time": "2024-03-16T06:27:45.770321Z",
     "start_time": "2024-03-16T06:27:45.757373Z"
    }
   },
   "id": "fbb0ab9f3b225a26"
  },
  {
   "cell_type": "code",
   "execution_count": null,
   "outputs": [],
   "source": [],
   "metadata": {
    "collapsed": false
   },
   "id": "96635ce9a4d88341"
  }
 ],
 "metadata": {
  "kernelspec": {
   "display_name": "Python 3",
   "language": "python",
   "name": "python3"
  },
  "language_info": {
   "codemirror_mode": {
    "name": "ipython",
    "version": 2
   },
   "file_extension": ".py",
   "mimetype": "text/x-python",
   "name": "python",
   "nbconvert_exporter": "python",
   "pygments_lexer": "ipython2",
   "version": "2.7.6"
  }
 },
 "nbformat": 4,
 "nbformat_minor": 5
}
