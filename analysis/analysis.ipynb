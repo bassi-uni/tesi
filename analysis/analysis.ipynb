{
 "cells": [
  {
   "cell_type": "code",
   "execution_count": 3,
   "id": "initial_id",
   "metadata": {
    "collapsed": true,
    "ExecuteTime": {
     "end_time": "2024-04-26T15:30:20.715022Z",
     "start_time": "2024-04-26T15:30:20.693792Z"
    }
   },
   "outputs": [
    {
     "name": "stdout",
     "output_type": "stream",
     "text": [
      "   ID                     name\n",
      "0   1  Teaching and explaining\n",
      "1   2             Social Media\n",
      "2   3             Econometrics\n",
      "3   4   Fantasy story building\n",
      "4   5     Freelancer Marketing\n",
      "   ID                                             prompt  isSelected  UCID  \\\n",
      "0   1  Advise on creating interactive and engaging ac...           1     1   \n",
      "1   2  Based on the classroom personalities and learn...           1     1   \n",
      "2   3  Recommend the use of analogies and examples th...           1     1   \n",
      "3   4  Provide guidance on how to facilitate a classr...           1     1   \n",
      "4   5  Suggest how to use technology and multimedia t...           1     1   \n",
      "\n",
      "                                   keyFeatures  \n",
      "0  Develop Interactive and Engaging Activities  \n",
      "1       Identify Effective Teaching Strategies  \n",
      "2                   Use Analogies and Examples  \n",
      "3             Facilitate Inclusive Discussions  \n",
      "4  Incorporate Technology and Multimedia Tools  \n",
      "   ID  testID                                              human  \\\n",
      "0   1       1  Help me to sell a guide containing also video-...   \n",
      "1   2       1  Your last answer about the promotional campaig...   \n",
      "\n",
      "                                                  ai  pertinence  \\\n",
      "0   To develop the perfect promotional campaign f...           4   \n",
      "1   Day 16: Social Media Giveaway\\nHost a giveawa...           4   \n",
      "\n",
      "   chosenPromptID excludedPromptIDs  \n",
      "0              19             20,21  \n",
      "1              19             20,21  \n",
      "   ID loadingTime     model  withTranslation                 timestamp\n",
      "0   1         0.0  OPENCHAT                0  2024-04-26T14:38:43.799Z\n",
      "1   2         0.0  OPENCHAT                0  2024-04-26T14:48:04.123Z\n"
     ]
    }
   ],
   "source": [
    "import pandas as pd\n",
    "import sqlite3\n",
    "\n",
    "# Step 1: Connect to the SQLite database\n",
    "conn = sqlite3.connect('../interface/database.db')\n",
    "\n",
    "# Step 2: Retrieve table names from the database\n",
    "query = \"SELECT * FROM sqlite_master WHERE type='table';\"\n",
    "tables = pd.read_sql_query(query, conn)\n",
    "\n",
    "# Step 3 & 4: Query each table and save it as a CSV file\n",
    "for table_name in tables['name'].tolist():\n",
    "    table_query = f\"SELECT * FROM {table_name}\"\n",
    "    table_df = pd.read_sql_query(table_query, conn)\n",
    "    print(table_df.head())\n",
    "    table_df.to_csv(f\"{table_name}.csv\", index=False)  # index=False to exclude the index from the CSV\n",
    "\n",
    "# Close the connection\n",
    "conn.close()\n"
   ]
  },
  {
   "cell_type": "code",
   "execution_count": 4,
   "outputs": [
    {
     "data": {
      "text/plain": "(   ID  testID                                              human  \\\n 0   1       1  Help me to sell a guide containing also video-...   \n 1   2       1  Your last answer about the promotional campaig...   \n \n                                                   ai  pertinence  \\\n 0   To develop the perfect promotional campaign f...           4   \n 1   Day 16: Social Media Giveaway\\nHost a giveawa...           4   \n \n    chosenPromptID excludedPromptIDs  \n 0              19             20,21  \n 1              19             20,21  ,\n    ID                                             prompt  isSelected  UCID  \\\n 0   1  Advise on creating interactive and engaging ac...           1     1   \n 1   2  Based on the classroom personalities and learn...           1     1   \n 2   3  Recommend the use of analogies and examples th...           1     1   \n 3   4  Provide guidance on how to facilitate a classr...           1     1   \n 4   5  Suggest how to use technology and multimedia t...           1     1   \n \n                                    keyFeatures  \n 0  Develop Interactive and Engaging Activities  \n 1       Identify Effective Teaching Strategies  \n 2                   Use Analogies and Examples  \n 3             Facilitate Inclusive Discussions  \n 4  Incorporate Technology and Multimedia Tools  ,\n    ID  loadingTime     model  withTranslation                 timestamp\n 0   1          0.0  OPENCHAT                0  2024-04-26T14:38:43.799Z\n 1   2          0.0  OPENCHAT                0  2024-04-26T14:48:04.123Z,\n    ID                     name\n 0   1  Teaching and explaining\n 1   2             Social Media\n 2   3             Econometrics\n 3   4   Fantasy story building\n 4   5     Freelancer Marketing)"
     },
     "execution_count": 4,
     "metadata": {},
     "output_type": "execute_result"
    }
   ],
   "source": [
    "import pandas as pd\n",
    "\n",
    "# Load the datasets\n",
    "interaction_df = pd.read_csv('./interaction.csv')\n",
    "system_prompt_df = pd.read_csv('./systemPrompt.csv')\n",
    "test_df = pd.read_csv('./test.csv')\n",
    "use_case_df = pd.read_csv('./useCase.csv')\n",
    "\n",
    "# Display the first few rows of each dataset to understand their structure\n",
    "(interaction_df.head(), system_prompt_df.head(), test_df.head(), use_case_df.head())\n"
   ],
   "metadata": {
    "collapsed": false,
    "ExecuteTime": {
     "end_time": "2024-04-26T15:37:32.286330Z",
     "start_time": "2024-04-26T15:37:32.258422Z"
    }
   },
   "id": "59d2e9ad3af40695"
  },
  {
   "cell_type": "code",
   "execution_count": 5,
   "outputs": [
    {
     "data": {
      "text/plain": "(   ID_interaction  testID                                              human  \\\n 0               1       1  Help me to sell a guide containing also video-...   \n 1               2       1  Your last answer about the promotional campaig...   \n \n                                                   ai  pertinence  \\\n 0   To develop the perfect promotional campaign f...           4   \n 1   Day 16: Social Media Giveaway\\nHost a giveawa...           4   \n \n    chosenPromptID excludedPromptIDs  ID_test  loadingTime     model  \\\n 0              19             20,21        1          0.0  OPENCHAT   \n 1              19             20,21        1          0.0  OPENCHAT   \n \n    withTranslation                 timestamp  \n 0                0  2024-04-26T14:38:43.799Z  \n 1                0  2024-04-26T14:38:43.799Z  ,\n    ID_prompt                                             prompt  isSelected  \\\n 0          1  Advise on creating interactive and engaging ac...           1   \n 1          2  Based on the classroom personalities and learn...           1   \n 2          3  Recommend the use of analogies and examples th...           1   \n 3          4  Provide guidance on how to facilitate a classr...           1   \n 4          5  Suggest how to use technology and multimedia t...           1   \n \n    UCID                                  keyFeatures  ID_useCase  \\\n 0     1  Develop Interactive and Engaging Activities           1   \n 1     1       Identify Effective Teaching Strategies           1   \n 2     1                   Use Analogies and Examples           1   \n 3     1             Facilitate Inclusive Discussions           1   \n 4     1  Incorporate Technology and Multimedia Tools           1   \n \n                       name  \n 0  Teaching and explaining  \n 1  Teaching and explaining  \n 2  Teaching and explaining  \n 3  Teaching and explaining  \n 4  Teaching and explaining  )"
     },
     "execution_count": 5,
     "metadata": {},
     "output_type": "execute_result"
    }
   ],
   "source": [
    "# Explore how the 'testID' in 'interaction' corresponds to entries in 'test'\n",
    "interaction_test_merged = pd.merge(interaction_df, test_df, left_on=\"testID\", right_on=\"ID\", suffixes=('_interaction', '_test'))\n",
    "\n",
    "# Explore how the 'UCID' in 'systemPrompt' matches entries in 'useCase'\n",
    "system_prompt_use_case_merged = pd.merge(system_prompt_df, use_case_df, left_on=\"UCID\", right_on=\"ID\", suffixes=('_prompt', '_useCase'))\n",
    "\n",
    "# Show the result of merging to confirm correctness of data connections\n",
    "(interaction_test_merged.head(), system_prompt_use_case_merged.head())\n"
   ],
   "metadata": {
    "collapsed": false,
    "ExecuteTime": {
     "end_time": "2024-04-26T15:37:39.991968Z",
     "start_time": "2024-04-26T15:37:39.966984Z"
    }
   },
   "id": "ef813c9fbd2af501"
  },
  {
   "cell_type": "code",
   "execution_count": 8,
   "outputs": [
    {
     "data": {
      "text/plain": "   UCID  chosenPromptID                                             prompt  \\\n0     5              19  You are the best marketing strategist. You alw...   \n\n          keyFeatures  average_pertinence  count  \n0  Step-by-step guide                 4.0      2  ",
      "text/html": "<div>\n<style scoped>\n    .dataframe tbody tr th:only-of-type {\n        vertical-align: middle;\n    }\n\n    .dataframe tbody tr th {\n        vertical-align: top;\n    }\n\n    .dataframe thead th {\n        text-align: right;\n    }\n</style>\n<table border=\"1\" class=\"dataframe\">\n  <thead>\n    <tr style=\"text-align: right;\">\n      <th></th>\n      <th>UCID</th>\n      <th>chosenPromptID</th>\n      <th>prompt</th>\n      <th>keyFeatures</th>\n      <th>average_pertinence</th>\n      <th>count</th>\n    </tr>\n  </thead>\n  <tbody>\n    <tr>\n      <th>0</th>\n      <td>5</td>\n      <td>19</td>\n      <td>You are the best marketing strategist. You alw...</td>\n      <td>Step-by-step guide</td>\n      <td>4.0</td>\n      <td>2</td>\n    </tr>\n  </tbody>\n</table>\n</div>"
     },
     "execution_count": 8,
     "metadata": {},
     "output_type": "execute_result"
    }
   ],
   "source": [
    "# Attempt to re-run the analysis on chosen prompts effectiveness\n",
    "interaction_prompt_merged = pd.merge(interaction_df, system_prompt_df, left_on=\"chosenPromptID\", right_on=\"ID\", suffixes=('_interaction', '_prompt'))\n",
    "\n",
    "# Aggregate data to analyze effectiveness of chosen prompts per use case\n",
    "chosen_prompt_analysis = interaction_prompt_merged.groupby(['UCID', 'chosenPromptID', 'prompt', 'keyFeatures']) \\\n",
    "                                                  .agg(\n",
    "                                                      average_pertinence=('pertinence', 'mean'),\n",
    "                                                      count=('ID_interaction', 'size')\n",
    "                                                  ).reset_index()\n",
    "\n",
    "# Examine the best performing prompts per use case based on average pertinence and frequency\n",
    "best_prompts_per_use_case = chosen_prompt_analysis.sort_values(by=['UCID', 'average_pertinence', 'count'], ascending=[True, False, False])\n",
    "\n",
    "# Show the analysis results\n",
    "best_prompts_per_use_case.head(10)\n"
   ],
   "metadata": {
    "collapsed": false,
    "ExecuteTime": {
     "end_time": "2024-04-26T15:41:26.127435Z",
     "start_time": "2024-04-26T15:41:26.096962Z"
    }
   },
   "id": "7d83a71aa7982c6f"
  },
  {
   "cell_type": "code",
   "execution_count": 9,
   "outputs": [
    {
     "data": {
      "text/plain": "   UCID  excludedPromptIDs_list  \\\n0     5                      20   \n1     5                      21   \n\n                                              prompt  \\\n0  Plan a promotional campaign focusing on budget...   \n1  You're tasked with creating an innovative prom...   \n\n                            keyFeatures  count  \n0  Budgeting, Metrics Evaluation Prompt      2  \n1   Creative Concept Development Prompt      2  ",
      "text/html": "<div>\n<style scoped>\n    .dataframe tbody tr th:only-of-type {\n        vertical-align: middle;\n    }\n\n    .dataframe tbody tr th {\n        vertical-align: top;\n    }\n\n    .dataframe thead th {\n        text-align: right;\n    }\n</style>\n<table border=\"1\" class=\"dataframe\">\n  <thead>\n    <tr style=\"text-align: right;\">\n      <th></th>\n      <th>UCID</th>\n      <th>excludedPromptIDs_list</th>\n      <th>prompt</th>\n      <th>keyFeatures</th>\n      <th>count</th>\n    </tr>\n  </thead>\n  <tbody>\n    <tr>\n      <th>0</th>\n      <td>5</td>\n      <td>20</td>\n      <td>Plan a promotional campaign focusing on budget...</td>\n      <td>Budgeting, Metrics Evaluation Prompt</td>\n      <td>2</td>\n    </tr>\n    <tr>\n      <th>1</th>\n      <td>5</td>\n      <td>21</td>\n      <td>You're tasked with creating an innovative prom...</td>\n      <td>Creative Concept Development Prompt</td>\n      <td>2</td>\n    </tr>\n  </tbody>\n</table>\n</div>"
     },
     "execution_count": 9,
     "metadata": {},
     "output_type": "execute_result"
    }
   ],
   "source": [
    "# Expand the 'excludedPromptIDs' into a list and explode it for analysis\n",
    "interaction_df['excludedPromptIDs_list'] = interaction_df['excludedPromptIDs'].str.split(',')\n",
    "\n",
    "# Explode the DataFrame on the excludedPromptIDs_list to analyze each excluded prompt individually\n",
    "excluded_prompts_expanded = interaction_df.explode('excludedPromptIDs_list')\n",
    "\n",
    "# Convert the exploded 'excludedPromptIDs_list' to numeric for merging\n",
    "excluded_prompts_expanded['excludedPromptIDs_list'] = pd.to_numeric(excluded_prompts_expanded['excludedPromptIDs_list'])\n",
    "\n",
    "# Merge with system prompt data to include prompt text and use case info\n",
    "excluded_prompt_analysis = pd.merge(excluded_prompts_expanded, system_prompt_df, left_on='excludedPromptIDs_list', right_on='ID', suffixes=('_interaction', '_prompt'))\n",
    "\n",
    "# Aggregate data to analyze frequently excluded prompts per use case\n",
    "frequent_excluded_prompts = excluded_prompt_analysis.groupby(['UCID', 'excludedPromptIDs_list', 'prompt', 'keyFeatures']) \\\n",
    "                                                    .agg(count=('ID_interaction', 'size')) \\\n",
    "                                                    .reset_index().sort_values(by='count', ascending=False)\n",
    "\n",
    "# Show the analysis results for excluded prompts\n",
    "frequent_excluded_prompts.head(10)\n"
   ],
   "metadata": {
    "collapsed": false,
    "ExecuteTime": {
     "end_time": "2024-04-26T15:41:41.465800Z",
     "start_time": "2024-04-26T15:41:41.448684Z"
    }
   },
   "id": "ccc038f65bf1f5fb"
  },
  {
   "cell_type": "code",
   "execution_count": null,
   "outputs": [],
   "source": [],
   "metadata": {
    "collapsed": false
   },
   "id": "2b68af25d3e319e"
  }
 ],
 "metadata": {
  "kernelspec": {
   "display_name": "Python 3",
   "language": "python",
   "name": "python3"
  },
  "language_info": {
   "codemirror_mode": {
    "name": "ipython",
    "version": 2
   },
   "file_extension": ".py",
   "mimetype": "text/x-python",
   "name": "python",
   "nbconvert_exporter": "python",
   "pygments_lexer": "ipython2",
   "version": "2.7.6"
  }
 },
 "nbformat": 4,
 "nbformat_minor": 5
}
