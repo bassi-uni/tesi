{
 "cells": [
  {
   "cell_type": "code",
   "execution_count": 15,
   "outputs": [],
   "source": [
    "from langchain_community.llms import Ollama\n",
    "from langchain.chains import LLMChain\n",
    "from langchain.prompts import PromptTemplate\n",
    "\n",
    "llm = Ollama(model=\"openchat:latest\")\n"
   ],
   "metadata": {
    "collapsed": false,
    "ExecuteTime": {
     "end_time": "2024-03-01T06:11:10.829249Z",
     "start_time": "2024-03-01T06:11:10.812621Z"
    }
   },
   "id": "initial_id"
  },
  {
   "cell_type": "code",
   "execution_count": 16,
   "id": "3df15f3067a7d9af",
   "metadata": {
    "collapsed": false,
    "ExecuteTime": {
     "end_time": "2024-03-01T06:11:11.303975Z",
     "start_time": "2024-03-01T06:11:11.301264Z"
    }
   },
   "outputs": [],
   "source": [
    "from langchain_core.prompts import ChatPromptTemplate\n",
    "\n",
    "translation_template = ChatPromptTemplate.from_messages(\n",
    "    [\n",
    "        (\"system\", \"You are an AI translator bot. When a user ask to translate to english something, you just answer with the translation, with no further details, also do not add spaces or other symbols out of the translation\"),\n",
    "        (\"human\", \"Translate 'Ciao, come stai?' to English\"),\n",
    "        (\"ai\", \"Hello, how are you?\"),\n",
    "        (\"human\", \"Translate '{user_input}' to English\"),\n",
    "    ]\n",
    ")\n",
    "\n",
    "translation_chain = LLMChain(prompt=translation_template, llm=llm)"
   ]
  },
  {
   "cell_type": "code",
   "execution_count": 17,
   "outputs": [
    {
     "data": {
      "text/plain": "' Give me the recipe for making pancakes'"
     },
     "execution_count": 17,
     "metadata": {},
     "output_type": "execute_result"
    }
   ],
   "source": [
    "translation_chain.run(user_input=\"Dammi la ricetta per fare i pankakes\")"
   ],
   "metadata": {
    "collapsed": false,
    "ExecuteTime": {
     "end_time": "2024-03-01T06:11:15.699287Z",
     "start_time": "2024-03-01T06:11:11.850120Z"
    }
   },
   "id": "2a9b9184af79a874"
  },
  {
   "cell_type": "code",
   "execution_count": 20,
   "outputs": [],
   "source": [
    "question_answer_template=\"\"\"\n",
    "<<SYS>>You are a helpful assistant, please answer this question being respectful. Provide always concise responses<</SYS>>\n",
    "\n",
    "[INST]User: {input}\n",
    "AI: \n",
    "[/INST]\n",
    "\"\"\"\n",
    "question_answer_prompt = PromptTemplate.from_template(question_answer_template)\n",
    "\n",
    "question_answer_chain = LLMChain(prompt=question_answer_prompt, llm=llm)"
   ],
   "metadata": {
    "collapsed": false,
    "ExecuteTime": {
     "end_time": "2024-03-01T06:12:30.216253Z",
     "start_time": "2024-03-01T06:12:30.212631Z"
    }
   },
   "id": "a68b1661370633dd"
  },
  {
   "cell_type": "code",
   "execution_count": 21,
   "outputs": [],
   "source": [
    "from langchain.chains import SimpleSequentialChain, SequentialChain\n",
    "full_chain = SimpleSequentialChain(chains=[translation_chain, question_answer_chain], verbose=True)"
   ],
   "metadata": {
    "collapsed": false,
    "ExecuteTime": {
     "end_time": "2024-03-01T06:15:22.754351Z",
     "start_time": "2024-03-01T06:15:22.746967Z"
    }
   },
   "id": "5a7b464824b661cb"
  },
  {
   "cell_type": "code",
   "execution_count": 22,
   "outputs": [
    {
     "name": "stdout",
     "output_type": "stream",
     "text": [
      "\n",
      "\n",
      "\u001B[1m> Entering new SimpleSequentialChain chain...\u001B[0m\n",
      "\u001B[36;1m\u001B[1;3m Give me the pancake recipe\u001B[0m\n",
      "\u001B[33;1m\u001B[1;3m Certainly! Here is a simple and delicious pancake recipe for you:\n",
      "\n",
      "Ingredients:\n",
      "- 1 cup all-purpose flour\n",
      "- 2 tablespoons sugar\n",
      "- 1 teaspoon baking powder\n",
      "- 1/2 teaspoon salt\n",
      "- 1 cup milk\n",
      "- 1 egg\n",
      "- 2 tablespoons melted butter\n",
      "- Optional: Add-ins like blueberries, chocolate chips, or nuts\n",
      "\n",
      "Instructions:\n",
      "1. In a large bowl, whisk together the flour, sugar, baking powder, and salt.\n",
      "2. In a separate bowl, beat the egg and then mix in the milk and melted butter.\n",
      "3. Pour the wet ingredients into the dry ingredients and stir until just combined. Be careful not to overmix; some lumps are okay.\n",
      "4. If using add-ins like blueberries or chocolate chips, gently fold them into the batter.\n",
      "5. Heat a non-stick skillet or griddle over medium heat. Add a small amount of butter or cooking spray to prevent sticking.\n",
      "6. Pour 1/4 cup portions of the batter onto the heated surface and cook until bubbles form on the surface and the edges start to look set (about 2 minutes).\n",
      "7. Flip the pancake with a spatula and cook for another 1-2 minutes or until golden brown.\n",
      "8. Repeat with remaining batter, adding more butter or cooking spray as needed.\n",
      "9. Serve warm with your favorite toppings like maple syrup, fruit, or whipped cream. Enjoy!\u001B[0m\n",
      "\n",
      "\u001B[1m> Finished chain.\u001B[0m\n"
     ]
    },
    {
     "data": {
      "text/plain": "' Certainly! Here is a simple and delicious pancake recipe for you:\\n\\nIngredients:\\n- 1 cup all-purpose flour\\n- 2 tablespoons sugar\\n- 1 teaspoon baking powder\\n- 1/2 teaspoon salt\\n- 1 cup milk\\n- 1 egg\\n- 2 tablespoons melted butter\\n- Optional: Add-ins like blueberries, chocolate chips, or nuts\\n\\nInstructions:\\n1. In a large bowl, whisk together the flour, sugar, baking powder, and salt.\\n2. In a separate bowl, beat the egg and then mix in the milk and melted butter.\\n3. Pour the wet ingredients into the dry ingredients and stir until just combined. Be careful not to overmix; some lumps are okay.\\n4. If using add-ins like blueberries or chocolate chips, gently fold them into the batter.\\n5. Heat a non-stick skillet or griddle over medium heat. Add a small amount of butter or cooking spray to prevent sticking.\\n6. Pour 1/4 cup portions of the batter onto the heated surface and cook until bubbles form on the surface and the edges start to look set (about 2 minutes).\\n7. Flip the pancake with a spatula and cook for another 1-2 minutes or until golden brown.\\n8. Repeat with remaining batter, adding more butter or cooking spray as needed.\\n9. Serve warm with your favorite toppings like maple syrup, fruit, or whipped cream. Enjoy!'"
     },
     "execution_count": 22,
     "metadata": {},
     "output_type": "execute_result"
    }
   ],
   "source": [
    "full_chain.run(\"Dammi la ricetta dei pankakes\")"
   ],
   "metadata": {
    "collapsed": false,
    "ExecuteTime": {
     "end_time": "2024-03-01T06:15:49.722061Z",
     "start_time": "2024-03-01T06:15:36.954344Z"
    }
   },
   "id": "a4d07d6d3d647767"
  },
  {
   "cell_type": "code",
   "execution_count": 23,
   "outputs": [],
   "source": [
    "recognizing_language_template = ChatPromptTemplate.from_messages(\n",
    "    [\n",
    "        (\"system\", \"You are an AI translator bot. When a user ask to recognize the language of a message you just answer with the language name as output, with no further details, also do not add spaces or other symbols out of the translation\"),\n",
    "        (\"human\", \"Recognize the language of 'Ciao, come stai?'\"),\n",
    "        (\"ai\", \"Italian\"),\n",
    "        (\"human\", \"Recognize the language of '{user_input}'\"),\n",
    "        (\"ai\", \"{language}\"),\n",
    "    ], \n",
    "\n",
    ")\n",
    "recognizing_language_chain = LLMChain(prompt=translation_template, llm=llm)"
   ],
   "metadata": {
    "collapsed": false,
    "ExecuteTime": {
     "end_time": "2024-03-01T06:20:47.823252Z",
     "start_time": "2024-03-01T06:20:47.810042Z"
    }
   },
   "id": "f37e6ee9d1b1ae11"
  },
  {
   "cell_type": "code",
   "execution_count": null,
   "outputs": [],
   "source": [
    "full_chain = SimpleSequentialChain(chains=[translation_chain, question_answer_chain], verbose=True)"
   ],
   "metadata": {
    "collapsed": false
   },
   "id": "783f491b1b146931"
  }
 ],
 "metadata": {
  "kernelspec": {
   "display_name": "Python 3 (ipykernel)",
   "language": "python",
   "name": "python3"
  },
  "language_info": {
   "codemirror_mode": {
    "name": "ipython",
    "version": 3
   },
   "file_extension": ".py",
   "mimetype": "text/x-python",
   "name": "python",
   "nbconvert_exporter": "python",
   "pygments_lexer": "ipython3",
   "version": "3.9.16"
  }
 },
 "nbformat": 4,
 "nbformat_minor": 5
}
