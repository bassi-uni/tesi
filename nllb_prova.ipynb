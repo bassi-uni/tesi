{
 "cells": [
  {
   "cell_type": "code",
   "execution_count": 22,
   "outputs": [],
   "source": [
    "from langchain_community.llms import Ollama\n",
    "from langchain.chains import LLMChain\n",
    "from langchain.prompts import PromptTemplate\n",
    "\n",
    "llm = Ollama(model=\"openchat:latest\")\n"
   ],
   "metadata": {
    "collapsed": false,
    "ExecuteTime": {
     "end_time": "2024-03-02T18:28:18.449694Z",
     "start_time": "2024-03-02T18:28:18.440713Z"
    }
   },
   "id": "initial_id"
  },
  {
   "cell_type": "code",
   "execution_count": 16,
   "id": "3df15f3067a7d9af",
   "metadata": {
    "collapsed": false,
    "ExecuteTime": {
     "end_time": "2024-03-01T06:11:11.303975Z",
     "start_time": "2024-03-01T06:11:11.301264Z"
    }
   },
   "outputs": [],
   "source": [
    "from langchain_core.prompts import ChatPromptTemplate\n",
    "\n",
    "translation_template = ChatPromptTemplate.from_messages(\n",
    "    [\n",
    "        (\"system\", \"You are an AI translator bot. When a user ask to translate to english something, you just answer with the translation, with no further details, also do not add spaces or other symbols out of the translation\"),\n",
    "        (\"human\", \"Translate 'Ciao, come stai?' to English\"),\n",
    "        (\"ai\", \"Hello, how are you?\"),\n",
    "        (\"human\", \"Translate '{user_input}' to English\"),\n",
    "    ]\n",
    ")\n",
    "\n",
    "translation_chain = LLMChain(prompt=translation_template, llm=llm)"
   ]
  },
  {
   "cell_type": "code",
   "execution_count": 17,
   "outputs": [
    {
     "data": {
      "text/plain": "' Give me the recipe for making pancakes'"
     },
     "execution_count": 17,
     "metadata": {},
     "output_type": "execute_result"
    }
   ],
   "source": [
    "translation_chain.run(user_input=\"Dammi la ricetta per fare i pankakes\")"
   ],
   "metadata": {
    "collapsed": false,
    "ExecuteTime": {
     "end_time": "2024-03-01T06:11:15.699287Z",
     "start_time": "2024-03-01T06:11:11.850120Z"
    }
   },
   "id": "2a9b9184af79a874"
  },
  {
   "cell_type": "code",
   "execution_count": 20,
   "outputs": [],
   "source": [
    "question_answer_template=\"\"\"\n",
    "<<SYS>>You are a helpful assistant, please answer this question being respectful. Provide always concise responses<</SYS>>\n",
    "\n",
    "[INST]User: {input}\n",
    "AI: \n",
    "[/INST]\n",
    "\"\"\"\n",
    "question_answer_prompt = PromptTemplate.from_template(question_answer_template)\n",
    "\n",
    "question_answer_chain = LLMChain(prompt=question_answer_prompt, llm=llm)"
   ],
   "metadata": {
    "collapsed": false,
    "ExecuteTime": {
     "end_time": "2024-03-01T06:12:30.216253Z",
     "start_time": "2024-03-01T06:12:30.212631Z"
    }
   },
   "id": "a68b1661370633dd"
  },
  {
   "cell_type": "code",
   "execution_count": 21,
   "outputs": [],
   "source": [
    "from langchain.chains import SimpleSequentialChain, SequentialChain\n",
    "full_chain = SimpleSequentialChain(chains=[translation_chain, question_answer_chain], verbose=True)"
   ],
   "metadata": {
    "collapsed": false,
    "ExecuteTime": {
     "end_time": "2024-03-01T06:15:22.754351Z",
     "start_time": "2024-03-01T06:15:22.746967Z"
    }
   },
   "id": "5a7b464824b661cb"
  },
  {
   "cell_type": "code",
   "execution_count": 22,
   "outputs": [
    {
     "name": "stdout",
     "output_type": "stream",
     "text": [
      "\n",
      "\n",
      "\u001B[1m> Entering new SimpleSequentialChain chain...\u001B[0m\n",
      "\u001B[36;1m\u001B[1;3m Give me the pancake recipe\u001B[0m\n",
      "\u001B[33;1m\u001B[1;3m Certainly! Here is a simple and delicious pancake recipe for you:\n",
      "\n",
      "Ingredients:\n",
      "- 1 cup all-purpose flour\n",
      "- 2 tablespoons sugar\n",
      "- 1 teaspoon baking powder\n",
      "- 1/2 teaspoon salt\n",
      "- 1 cup milk\n",
      "- 1 egg\n",
      "- 2 tablespoons melted butter\n",
      "- Optional: Add-ins like blueberries, chocolate chips, or nuts\n",
      "\n",
      "Instructions:\n",
      "1. In a large bowl, whisk together the flour, sugar, baking powder, and salt.\n",
      "2. In a separate bowl, beat the egg and then mix in the milk and melted butter.\n",
      "3. Pour the wet ingredients into the dry ingredients and stir until just combined. Be careful not to overmix; some lumps are okay.\n",
      "4. If using add-ins like blueberries or chocolate chips, gently fold them into the batter.\n",
      "5. Heat a non-stick skillet or griddle over medium heat. Add a small amount of butter or cooking spray to prevent sticking.\n",
      "6. Pour 1/4 cup portions of the batter onto the heated surface and cook until bubbles form on the surface and the edges start to look set (about 2 minutes).\n",
      "7. Flip the pancake with a spatula and cook for another 1-2 minutes or until golden brown.\n",
      "8. Repeat with remaining batter, adding more butter or cooking spray as needed.\n",
      "9. Serve warm with your favorite toppings like maple syrup, fruit, or whipped cream. Enjoy!\u001B[0m\n",
      "\n",
      "\u001B[1m> Finished chain.\u001B[0m\n"
     ]
    },
    {
     "data": {
      "text/plain": "' Certainly! Here is a simple and delicious pancake recipe for you:\\n\\nIngredients:\\n- 1 cup all-purpose flour\\n- 2 tablespoons sugar\\n- 1 teaspoon baking powder\\n- 1/2 teaspoon salt\\n- 1 cup milk\\n- 1 egg\\n- 2 tablespoons melted butter\\n- Optional: Add-ins like blueberries, chocolate chips, or nuts\\n\\nInstructions:\\n1. In a large bowl, whisk together the flour, sugar, baking powder, and salt.\\n2. In a separate bowl, beat the egg and then mix in the milk and melted butter.\\n3. Pour the wet ingredients into the dry ingredients and stir until just combined. Be careful not to overmix; some lumps are okay.\\n4. If using add-ins like blueberries or chocolate chips, gently fold them into the batter.\\n5. Heat a non-stick skillet or griddle over medium heat. Add a small amount of butter or cooking spray to prevent sticking.\\n6. Pour 1/4 cup portions of the batter onto the heated surface and cook until bubbles form on the surface and the edges start to look set (about 2 minutes).\\n7. Flip the pancake with a spatula and cook for another 1-2 minutes or until golden brown.\\n8. Repeat with remaining batter, adding more butter or cooking spray as needed.\\n9. Serve warm with your favorite toppings like maple syrup, fruit, or whipped cream. Enjoy!'"
     },
     "execution_count": 22,
     "metadata": {},
     "output_type": "execute_result"
    }
   ],
   "source": [
    "full_chain.run(\"Dammi la ricetta dei pankakes\")"
   ],
   "metadata": {
    "collapsed": false,
    "ExecuteTime": {
     "end_time": "2024-03-01T06:15:49.722061Z",
     "start_time": "2024-03-01T06:15:36.954344Z"
    }
   },
   "id": "a4d07d6d3d647767"
  },
  {
   "cell_type": "code",
   "execution_count": 23,
   "outputs": [],
   "source": [
    "recognizing_language_template = ChatPromptTemplate.from_messages(\n",
    "    [\n",
    "        (\"system\", \"You are an AI translator bot. When a user ask to recognize the language of a message you just answer with the language name as output, with no further details, also do not add spaces or other symbols out of the translation\"),\n",
    "        (\"human\", \"Recognize the language of 'Ciao, come stai?'\"),\n",
    "        (\"ai\", \"Italian\"),\n",
    "        (\"human\", \"Recognize the language of '{user_input}'\"),\n",
    "        (\"ai\", \"{language}\"),\n",
    "    ], \n",
    "\n",
    ")\n",
    "recognizing_language_chain = LLMChain(prompt=translation_template, llm=llm)"
   ],
   "metadata": {
    "collapsed": false,
    "ExecuteTime": {
     "end_time": "2024-03-01T06:20:47.823252Z",
     "start_time": "2024-03-01T06:20:47.810042Z"
    }
   },
   "id": "f37e6ee9d1b1ae11"
  },
  {
   "cell_type": "code",
   "execution_count": null,
   "outputs": [],
   "source": [
    "full_chain = SimpleSequentialChain(chains=[translation_chain, question_answer_chain], verbose=True)"
   ],
   "metadata": {
    "collapsed": false
   },
   "id": "783f491b1b146931"
  },
  {
   "cell_type": "markdown",
   "source": [
    "# aPI CHAIN"
   ],
   "metadata": {
    "collapsed": false
   },
   "id": "cf21521f9e870f26"
  },
  {
   "cell_type": "code",
   "execution_count": 23,
   "outputs": [
    {
     "name": "stdout",
     "output_type": "stream",
     "text": [
      "BASE URL: https://api.open-meteo.com/\n",
      "\n",
      "API Documentation\n",
      "The API endpoint /v1/forecast accepts a geographical coordinate, a list of weather variables and responds with a JSON hourly weather forecast for 7 days. Time always starts at 0:00 today and contains 168 hours. All URL parameters are listed below:\n",
      "\n",
      "Parameter\tFormat\tRequired\tDefault\tDescription\n",
      "latitude, longitude\tFloating point\tYes\t\tGeographical WGS84 coordinate of the location\n",
      "hourly\tString array\tNo\t\tA list of weather variables which should be returned. Values can be comma separated, or multiple &hourly= parameter in the URL can be used.\n",
      "daily\tString array\tNo\t\tA list of daily weather variable aggregations which should be returned. Values can be comma separated, or multiple &daily= parameter in the URL can be used. If daily weather variables are specified, parameter timezone is required.\n",
      "current_weather\tBool\tNo\tfalse\tInclude current weather conditions in the JSON output.\n",
      "temperature_unit\tString\tNo\tcelsius\tIf fahrenheit is set, all temperature values are converted to Fahrenheit.\n",
      "windspeed_unit\tString\tNo\tkmh\tOther wind speed speed units: ms, mph and kn\n",
      "precipitation_unit\tString\tNo\tmm\tOther precipitation amount units: inch\n",
      "timeformat\tString\tNo\tiso8601\tIf format unixtime is selected, all time values are returned in UNIX epoch time in seconds. Please note that all timestamp are in GMT+0! For daily values with unix timestamps, please apply utc_offset_seconds again to get the correct date.\n",
      "timezone\tString\tNo\tGMT\tIf timezone is set, all timestamps are returned as local-time and data is returned starting at 00:00 local-time. Any time zone name from the time zone database is supported. If auto is set as a time zone, the coordinates will be automatically resolved to the local time zone.\n",
      "past_days\tInteger (0-2)\tNo\t0\tIf past_days is set, yesterday or the day before yesterday data are also returned.\n",
      "start_date\n",
      "end_date\tString (yyyy-mm-dd)\tNo\t\tThe time interval to get weather data. A day must be specified as an ISO8601 date (e.g. 2022-06-30).\n",
      "models\tString array\tNo\tauto\tManually select one or more weather models. Per default, the best suitable weather models will be combined.\n",
      "\n",
      "Hourly Parameter Definition\n",
      "The parameter &hourly= accepts the following values. Most weather variables are given as an instantaneous value for the indicated hour. Some variables like precipitation are calculated from the preceding hour as an average or sum.\n",
      "\n",
      "Variable\tValid time\tUnit\tDescription\n",
      "temperature_2m\tInstant\t°C (°F)\tAir temperature at 2 meters above ground\n",
      "snowfall\tPreceding hour sum\tcm (inch)\tSnowfall amount of the preceding hour in centimeters. For the water equivalent in millimeter, divide by 7. E.g. 7 cm snow = 10 mm precipitation water equivalent\n",
      "rain\tPreceding hour sum\tmm (inch)\tRain from large scale weather systems of the preceding hour in millimeter\n",
      "showers\tPreceding hour sum\tmm (inch)\tShowers from convective precipitation in millimeters from the preceding hour\n",
      "weathercode\tInstant\tWMO code\tWeather condition as a numeric code. Follow WMO weather interpretation codes. See table below for details.\n",
      "snow_depth\tInstant\tmeters\tSnow depth on the ground\n",
      "freezinglevel_height\tInstant\tmeters\tAltitude above sea level of the 0°C level\n",
      "visibility\tInstant\tmeters\tViewing distance in meters. Influenced by low clouds, humidity and aerosols. Maximum visibility is approximately 24 km.\n"
     ]
    }
   ],
   "source": [
    "from langchain.chains import APIChain\n",
    "from langchain.chains.api import open_meteo_docs\n",
    "print(open_meteo_docs.OPEN_METEO_DOCS)\n",
    "chain_new = APIChain.from_llm_and_api_docs(llm, open_meteo_docs.OPEN_METEO_DOCS, verbose=True, limit_to_domains=None)"
   ],
   "metadata": {
    "collapsed": false,
    "ExecuteTime": {
     "end_time": "2024-03-02T18:28:23.241198Z",
     "start_time": "2024-03-02T18:28:23.237158Z"
    }
   },
   "id": "1a7b59784441f6a4"
  },
  {
   "cell_type": "code",
   "execution_count": 25,
   "outputs": [
    {
     "name": "stdout",
     "output_type": "stream",
     "text": [
      "\n",
      "\n",
      "\u001B[1m> Entering new APIChain chain...\u001B[0m\n",
      "\u001B[32;1m\u001B[1;3m https://api.open-meteo.com/v1/forecast?latitude=1.3521&longitude=103.9194&current_weather=true&temperature_unit=celsius\u001B[0m\n",
      "\u001B[33;1m\u001B[1;3m{\"latitude\":1.375,\"longitude\":103.875,\"generationtime_ms\":0.04291534423828125,\"utc_offset_seconds\":0,\"timezone\":\"GMT\",\"timezone_abbreviation\":\"GMT\",\"elevation\":29.0,\"current_weather_units\":{\"time\":\"iso8601\",\"interval\":\"seconds\",\"temperature\":\"°C\",\"windspeed\":\"km/h\",\"winddirection\":\"°\",\"is_day\":\"\",\"weathercode\":\"wmo code\"},\"current_weather\":{\"time\":\"2024-03-02T18:30\",\"interval\":900,\"temperature\":26.0,\"windspeed\":8.7,\"winddirection\":24,\"is_day\":0,\"weathercode\":3}}\u001B[0m\n",
      "\n",
      "\u001B[1m> Finished chain.\u001B[0m\n"
     ]
    },
    {
     "data": {
      "text/plain": "' The current temperature in Bedok, Singapore is 26 degrees Celsius.'"
     },
     "execution_count": 25,
     "metadata": {},
     "output_type": "execute_result"
    }
   ],
   "source": [
    "chain_new.run(\"What is the temperature like right now in Bedok, Singapore in degrees celsius?\")"
   ],
   "metadata": {
    "collapsed": false,
    "ExecuteTime": {
     "end_time": "2024-03-02T18:30:24.966303Z",
     "start_time": "2024-03-02T18:30:16.524885Z"
    }
   },
   "id": "f25ef3e8b4efdfde"
  },
  {
   "cell_type": "code",
   "execution_count": null,
   "outputs": [],
   "source": [],
   "metadata": {
    "collapsed": false
   },
   "id": "3cc6fee7da4f142"
  }
 ],
 "metadata": {
  "kernelspec": {
   "display_name": "Python 3 (ipykernel)",
   "language": "python",
   "name": "python3"
  },
  "language_info": {
   "codemirror_mode": {
    "name": "ipython",
    "version": 3
   },
   "file_extension": ".py",
   "mimetype": "text/x-python",
   "name": "python",
   "nbconvert_exporter": "python",
   "pygments_lexer": "ipython3",
   "version": "3.9.16"
  }
 },
 "nbformat": 4,
 "nbformat_minor": 5
}
